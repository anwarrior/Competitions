{
  "nbformat": 4,
  "nbformat_minor": 0,
  "metadata": {
    "colab": {
      "name": "sanaitics week 3.ipynb",
      "provenance": [],
      "collapsed_sections": []
    },
    "kernelspec": {
      "name": "python3",
      "display_name": "Python 3"
    }
  },
  "cells": [
    {
      "cell_type": "code",
      "metadata": {
        "id": "XMt_H51umXuN",
        "colab_type": "code",
        "colab": {}
      },
      "source": [
        "#importing libraries\n",
        "import pandas as pd\n",
        "import numpy as np\n",
        " "
      ],
      "execution_count": 0,
      "outputs": []
    },
    {
      "cell_type": "code",
      "metadata": {
        "id": "IpTKy1Y3mqBp",
        "colab_type": "code",
        "colab": {}
      },
      "source": [
        "#importing data\n",
        "data = pd.read_csv('/content/Sampling Competition_8900.csv')"
      ],
      "execution_count": 0,
      "outputs": []
    },
    {
      "cell_type": "code",
      "metadata": {
        "id": "ocfql7E0m27Z",
        "colab_type": "code",
        "outputId": "6274fc6d-ee72-453a-e29e-8c9e1110f29e",
        "colab": {
          "base_uri": "https://localhost:8080/",
          "height": 85
        }
      },
      "source": [
        "print(' mean of a=',data.mean(),'\\n','standard deviation of',data.std())                    #mean and std of variable X"
      ],
      "execution_count": 0,
      "outputs": [
        {
          "output_type": "stream",
          "text": [
            " mean of X    71.523667\n",
            "dtype: float64 \n",
            " standard deviation of X    10.991368\n",
            "dtype: float64\n"
          ],
          "name": "stdout"
        }
      ]
    },
    {
      "cell_type": "code",
      "metadata": {
        "id": "_h2LDuIZopG8",
        "colab_type": "code",
        "outputId": "02286cad-541d-491c-8a45-74e430e45d2b",
        "colab": {
          "base_uri": "https://localhost:8080/",
          "height": 51
        }
      },
      "source": [
        "#Generating 500 random sample and obtaining mean and std for each one of them\n",
        "Mean , Std= [],[]                                   \n",
        "for i in range(500):\n",
        "  df = data.sample(n=30,replace=True)\n",
        "  Mean.append(df.mean());Std.append(df.std())\n",
        "\n",
        "print(' Mean of 500 means is =',np.mean(Mean),'\\n','Mean of 500 standard deviations is =',np.mean(Std))"
      ],
      "execution_count": 0,
      "outputs": [
        {
          "output_type": "stream",
          "text": [
            " Mean of 500 means is = 71.58050466666667 \n",
            " Mean of 500 standard deviations is = 10.835845136500735\n"
          ],
          "name": "stdout"
        }
      ]
    },
    {
      "cell_type": "code",
      "metadata": {
        "id": "4BuEDuBOyFP1",
        "colab_type": "code",
        "colab": {}
      },
      "source": [
        ""
      ],
      "execution_count": 0,
      "outputs": []
    }
  ]
}